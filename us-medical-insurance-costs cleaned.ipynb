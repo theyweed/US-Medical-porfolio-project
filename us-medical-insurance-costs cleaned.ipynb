{
 "cells": [
  {
   "cell_type": "markdown",
   "metadata": {},
   "source": [
    "# U.S. Medical Insurance Costs"
   ]
  },
  {
   "cell_type": "markdown",
   "metadata": {},
   "source": [
    "### #1 Reviewing the CSV file"
   ]
  },
  {
   "cell_type": "code",
   "execution_count": 2,
   "metadata": {},
   "outputs": [],
   "source": [
    "# Importing models used in project\n",
    "\n",
    "import csv\n",
    "import pandas as pd"
   ]
  },
  {
   "cell_type": "code",
   "execution_count": 14,
   "metadata": {},
   "outputs": [],
   "source": [
    "with open('insurance.csv', newline='') as csv_file:\n",
    "    insurance_data = csv.reader(csv_file)\n",
    "    \n",
    "    # for line in csv_file:\n",
    "        # print(line)"
   ]
  },
  {
   "cell_type": "code",
   "execution_count": 15,
   "metadata": {},
   "outputs": [
    {
     "name": "stdout",
     "output_type": "stream",
     "text": [
      "      age     sex     bmi  children smoker     region      charges\n",
      "0      19  female  27.900         0    yes  southwest  16884.92400\n",
      "1      18    male  33.770         1     no  southeast   1725.55230\n",
      "2      28    male  33.000         3     no  southeast   4449.46200\n",
      "3      33    male  22.705         0     no  northwest  21984.47061\n",
      "4      32    male  28.880         0     no  northwest   3866.85520\n",
      "...   ...     ...     ...       ...    ...        ...          ...\n",
      "1333   50    male  30.970         3     no  northwest  10600.54830\n",
      "1334   18  female  31.920         0     no  northeast   2205.98080\n",
      "1335   18  female  36.850         0     no  southeast   1629.83350\n",
      "1336   21  female  25.800         0     no  southwest   2007.94500\n",
      "1337   61  female  29.070         0    yes  northwest  29141.36030\n",
      "\n",
      "[1338 rows x 7 columns]\n"
     ]
    },
    {
     "data": {
      "text/html": [
       "<div>\n",
       "<style scoped>\n",
       "    .dataframe tbody tr th:only-of-type {\n",
       "        vertical-align: middle;\n",
       "    }\n",
       "\n",
       "    .dataframe tbody tr th {\n",
       "        vertical-align: top;\n",
       "    }\n",
       "\n",
       "    .dataframe thead th {\n",
       "        text-align: right;\n",
       "    }\n",
       "</style>\n",
       "<table border=\"1\" class=\"dataframe\">\n",
       "  <thead>\n",
       "    <tr style=\"text-align: right;\">\n",
       "      <th></th>\n",
       "      <th>age</th>\n",
       "      <th>sex</th>\n",
       "      <th>bmi</th>\n",
       "      <th>children</th>\n",
       "      <th>smoker</th>\n",
       "      <th>region</th>\n",
       "      <th>charges</th>\n",
       "    </tr>\n",
       "  </thead>\n",
       "  <tbody>\n",
       "    <tr>\n",
       "      <th>0</th>\n",
       "      <td>19</td>\n",
       "      <td>female</td>\n",
       "      <td>27.900</td>\n",
       "      <td>0</td>\n",
       "      <td>yes</td>\n",
       "      <td>southwest</td>\n",
       "      <td>16884.92400</td>\n",
       "    </tr>\n",
       "    <tr>\n",
       "      <th>1</th>\n",
       "      <td>18</td>\n",
       "      <td>male</td>\n",
       "      <td>33.770</td>\n",
       "      <td>1</td>\n",
       "      <td>no</td>\n",
       "      <td>southeast</td>\n",
       "      <td>1725.55230</td>\n",
       "    </tr>\n",
       "    <tr>\n",
       "      <th>2</th>\n",
       "      <td>28</td>\n",
       "      <td>male</td>\n",
       "      <td>33.000</td>\n",
       "      <td>3</td>\n",
       "      <td>no</td>\n",
       "      <td>southeast</td>\n",
       "      <td>4449.46200</td>\n",
       "    </tr>\n",
       "    <tr>\n",
       "      <th>3</th>\n",
       "      <td>33</td>\n",
       "      <td>male</td>\n",
       "      <td>22.705</td>\n",
       "      <td>0</td>\n",
       "      <td>no</td>\n",
       "      <td>northwest</td>\n",
       "      <td>21984.47061</td>\n",
       "    </tr>\n",
       "    <tr>\n",
       "      <th>4</th>\n",
       "      <td>32</td>\n",
       "      <td>male</td>\n",
       "      <td>28.880</td>\n",
       "      <td>0</td>\n",
       "      <td>no</td>\n",
       "      <td>northwest</td>\n",
       "      <td>3866.85520</td>\n",
       "    </tr>\n",
       "    <tr>\n",
       "      <th>5</th>\n",
       "      <td>31</td>\n",
       "      <td>female</td>\n",
       "      <td>25.740</td>\n",
       "      <td>0</td>\n",
       "      <td>no</td>\n",
       "      <td>southeast</td>\n",
       "      <td>3756.62160</td>\n",
       "    </tr>\n",
       "    <tr>\n",
       "      <th>6</th>\n",
       "      <td>46</td>\n",
       "      <td>female</td>\n",
       "      <td>33.440</td>\n",
       "      <td>1</td>\n",
       "      <td>no</td>\n",
       "      <td>southeast</td>\n",
       "      <td>8240.58960</td>\n",
       "    </tr>\n",
       "    <tr>\n",
       "      <th>7</th>\n",
       "      <td>37</td>\n",
       "      <td>female</td>\n",
       "      <td>27.740</td>\n",
       "      <td>3</td>\n",
       "      <td>no</td>\n",
       "      <td>northwest</td>\n",
       "      <td>7281.50560</td>\n",
       "    </tr>\n",
       "    <tr>\n",
       "      <th>8</th>\n",
       "      <td>37</td>\n",
       "      <td>male</td>\n",
       "      <td>29.830</td>\n",
       "      <td>2</td>\n",
       "      <td>no</td>\n",
       "      <td>northeast</td>\n",
       "      <td>6406.41070</td>\n",
       "    </tr>\n",
       "    <tr>\n",
       "      <th>9</th>\n",
       "      <td>60</td>\n",
       "      <td>female</td>\n",
       "      <td>25.840</td>\n",
       "      <td>0</td>\n",
       "      <td>no</td>\n",
       "      <td>northwest</td>\n",
       "      <td>28923.13692</td>\n",
       "    </tr>\n",
       "  </tbody>\n",
       "</table>\n",
       "</div>"
      ],
      "text/plain": [
       "   age     sex     bmi  children smoker     region      charges\n",
       "0   19  female  27.900         0    yes  southwest  16884.92400\n",
       "1   18    male  33.770         1     no  southeast   1725.55230\n",
       "2   28    male  33.000         3     no  southeast   4449.46200\n",
       "3   33    male  22.705         0     no  northwest  21984.47061\n",
       "4   32    male  28.880         0     no  northwest   3866.85520\n",
       "5   31  female  25.740         0     no  southeast   3756.62160\n",
       "6   46  female  33.440         1     no  southeast   8240.58960\n",
       "7   37  female  27.740         3     no  northwest   7281.50560\n",
       "8   37    male  29.830         2     no  northeast   6406.41070\n",
       "9   60  female  25.840         0     no  northwest  28923.13692"
      ]
     },
     "execution_count": 15,
     "metadata": {},
     "output_type": "execute_result"
    }
   ],
   "source": [
    "df = pd.read_csv('insurance.csv')\n",
    "print(df)\n",
    "df.head(n=10)"
   ]
  },
  {
   "cell_type": "markdown",
   "metadata": {},
   "source": [
    "### #2 Scooping the data"
   ]
  },
  {
   "cell_type": "markdown",
   "metadata": {},
   "source": [
    "#### Transfer data from csv into a list."
   ]
  },
  {
   "cell_type": "code",
   "execution_count": 16,
   "metadata": {},
   "outputs": [
    {
     "name": "stdout",
     "output_type": "stream",
     "text": [
      "['southwest', 'southeast', 'northwest', 'northeast']\n"
     ]
    }
   ],
   "source": [
    "insurance_data = []\n",
    "\n",
    "with open('insurance.csv') as csv_file:\n",
    "    insurance_reader = csv.DictReader(csv_file, delimiter = \",\")\n",
    "    for i in insurance_reader:\n",
    "        insurance_data.append(i)\n",
    "\n",
    "# print(insurance_data)\n",
    "\n",
    "unique_regions = []\n",
    "for person in insurance_data:\n",
    "    if person[\"region\"] not in unique_regions:\n",
    "        unique_regions.append(person[\"region\"])\n",
    "print(unique_regions)"
   ]
  },
  {
   "cell_type": "markdown",
   "metadata": {},
   "source": [
    "#### Count the total number of patients and a number of males and females"
   ]
  },
  {
   "cell_type": "code",
   "execution_count": 17,
   "metadata": {},
   "outputs": [
    {
     "name": "stdout",
     "output_type": "stream",
     "text": [
      "NUMBER OF PEOPLE IN OUR INSURANCE DATA:\n",
      "There are total of: 1338 patients\n",
      "Number of females in the insurenca data is: 662, which is 49.0%\n",
      "Number of males in the insurenca data is: 676, which is 51.0%.\n",
      "None\n"
     ]
    }
   ],
   "source": [
    "def sex_count(insurance_data):\n",
    "    male_count = 0\n",
    "    female_count = 0\n",
    "    for person in insurance_data:\n",
    "        if person[\"sex\"] == \"male\":\n",
    "            male_count += 1\n",
    "        elif person[\"sex\"] == \"female\":\n",
    "            female_count += 1\n",
    "    total_patients = male_count + female_count\n",
    "    male_rate = round(((male_count / total_patients) * 100), 0)\n",
    "    female_rate = round(((female_count / total_patients) * 100), 0)\n",
    "    \n",
    "    print(\"NUMBER OF PEOPLE IN OUR INSURANCE DATA:\")\n",
    "    print(\"There are total of: {}\".format(total_patients) + \" patients\")  \n",
    "    print(\"Number of females in the insurenca data is: {}\".format(female_count) + \", which is {}\".format(female_rate) + \"%\")\n",
    "    print(\"Number of males in the insurenca data is: {}\".format(male_count) + \", which is {}\".format(male_rate) + \"%.\")\n",
    "\n",
    "print(sex_count(insurance_data))"
   ]
  },
  {
   "cell_type": "markdown",
   "metadata": {},
   "source": [
    "#### Average, max and min insurance cost by gender"
   ]
  },
  {
   "cell_type": "code",
   "execution_count": 18,
   "metadata": {},
   "outputs": [
    {
     "name": "stdout",
     "output_type": "stream",
     "text": [
      "INSURANCE COST:\n",
      "Highest insurance cost is: $63770.43\n",
      "Lowest insurance cost is: $1121.87\n",
      "The median insurance cost is: $9382.03\n",
      "AVERAGE INSURANCE COSTS:\n",
      "The average insurance cost of patients in our insurance data is: $13270.42\n",
      "Average insurance cost for males in our insurance data is: $13956.75\n",
      "Average insurance cost for females in our insurance data is: $12569.58\n",
      "The differnece in insurence cost by gender is: $1387.17\n",
      "None\n",
      "We see that the difference in insurance cost between highest and lowest insurance cost is: $62648.55\n"
     ]
    }
   ],
   "source": [
    "df = pd.read_csv(\"insurance.csv\")\n",
    "max_insurance_cost = df[\"charges\"].max()\n",
    "min_insurance_cost = df[\"charges\"].min()\n",
    "median_insurance_cost = df[\"charges\"].median()\n",
    "\n",
    "print(\"INSURANCE COST:\")\n",
    "print(\"Highest insurance cost is: ${}\".format(round((max_insurance_cost), 2)))\n",
    "print(\"Lowest insurance cost is: ${}\".format(round((min_insurance_cost), 2)))\n",
    "print(\"The median insurance cost is: ${}\".format(round((median_insurance_cost), 2)))\n",
    "\n",
    "def gender_average_insurance_cost(insurance_data):\n",
    "    male_insurance_cost = 0\n",
    "    male_count = 0\n",
    "    female_insurance_cost = 0\n",
    "    female_count = 0\n",
    "    for person in insurance_data:\n",
    "        if person[\"sex\"] == \"male\":\n",
    "            male_insurance_cost += round(float(person[\"charges\"]), 2)\n",
    "            male_count += 1\n",
    "        elif person[\"sex\"] == \"female\":\n",
    "            female_insurance_cost += round(float(person[\"charges\"]), 2)\n",
    "            female_count += 1\n",
    "    total_charges = male_insurance_cost + female_insurance_cost\n",
    "    average_insurance_cost = round(total_charges / (male_count + female_count), 2)\n",
    "    average_male_insurance_cost = round((male_insurance_cost / male_count), 2)\n",
    "    average_female_insurance_cost = round((female_insurance_cost / female_count), 2)\n",
    "    difference_gender_insurance_cost = round((average_male_insurance_cost - average_female_insurance_cost), 2)\n",
    "    \n",
    "    print(\"AVERAGE INSURANCE COSTS:\")\n",
    "    print(\"The average insurance cost of patients in our insurance data is: ${}\".format(average_insurance_cost))\n",
    "    print(\"Average insurance cost for males in our insurance data is: ${}\".format(average_male_insurance_cost))\n",
    "    print(\"Average insurance cost for females in our insurance data is: ${}\".format(average_female_insurance_cost))\n",
    "    print(\"The differnece in insurence cost by gender is: ${}\".format(difference_gender_insurance_cost))\n",
    "\n",
    "print(gender_average_insurance_cost(insurance_data))\n",
    "print(\"We see that the difference in insurance cost between highest and lowest insurance cost is: $\" + str(round((max_insurance_cost - min_insurance_cost), 2)))"
   ]
  },
  {
   "cell_type": "markdown",
   "metadata": {},
   "source": [
    "#### Average age of the patients"
   ]
  },
  {
   "cell_type": "code",
   "execution_count": 19,
   "metadata": {},
   "outputs": [
    {
     "name": "stdout",
     "output_type": "stream",
     "text": [
      "PATIENTS AGE:\n",
      "Oldest patient in our insurance data is: 64\n",
      "Youngest patient in our insurance data: 18\n",
      "AVERAGE AGE OF PATIENTS:\n",
      "Average age of a patient is: 39.2 years.\n",
      "Average age of a male patient is: 38.9 years.\n",
      "Average age of a female patient is: 39.5 years.\n",
      "Average age difference between a female patient and a male patient is: 0.6 years.\n",
      "None\n"
     ]
    }
   ],
   "source": [
    "df = pd.read_csv(\"insurance.csv\")\n",
    "oldest_patient = df[\"age\"].max()\n",
    "youngest_patient = df[\"age\"].min()\n",
    "\n",
    "print(\"PATIENTS AGE:\")\n",
    "print(\"Oldest patient in our insurance data is: {}\".format((oldest_patient)))\n",
    "print(\"Youngest patient in our insurance data: {}\".format((youngest_patient)))\n",
    "\n",
    "def average_age(insurance_data):\n",
    "    total_male_age = 0\n",
    "    male_count = 0\n",
    "    total_female_age = 0\n",
    "    female_count = 0\n",
    "    for person in insurance_data:\n",
    "        if person[\"sex\"] == \"male\":\n",
    "            male_count += 1\n",
    "            total_male_age += float(person[\"age\"])\n",
    "        elif person[\"sex\"] == \"female\":\n",
    "            female_count += 1\n",
    "            total_female_age += float(person[\"age\"])\n",
    "    total_average_age = round((total_male_age + total_female_age) / (male_count + female_count), 1)\n",
    "    average_male_age = round((total_male_age / male_count), 1)\n",
    "    average_female_age = round((total_female_age / female_count), 1)\n",
    "    average_age_differnece = round((average_female_age - average_male_age), 1)\n",
    "    \n",
    "    print(\"AVERAGE AGE OF PATIENTS:\")\n",
    "    print(\"Average age of a patient is: {}\".format(total_average_age) + \" years.\")\n",
    "    print(\"Average age of a male patient is: {}\".format(average_male_age) + \" years.\")\n",
    "    print(\"Average age of a female patient is: {}\".format(average_female_age) + \" years.\")\n",
    "    print(\"Average age difference between a female patient and a male patient is: {}\".format(average_age_differnece) + \" years.\")\n",
    "    \n",
    "print(average_age(insurance_data))"
   ]
  },
  {
   "cell_type": "markdown",
   "metadata": {},
   "source": [
    "#### BMI values for each gender and age group"
   ]
  },
  {
   "cell_type": "code",
   "execution_count": 20,
   "metadata": {},
   "outputs": [
    {
     "name": "stdout",
     "output_type": "stream",
     "text": [
      "PATIENTS BMI:\n",
      "Highest BMI of a patient in our insurance data is: 53.13\n",
      "Lowest BMI of a patient in our insurance data: 15.96\n",
      "AVERAGE BMI:\n",
      "Average BMI of patients in our insurance data is: 30.66\n",
      "Average male BMI of patients is: 30.94\n",
      "Average female BMI of patients is: 30.38\n",
      "None\n"
     ]
    }
   ],
   "source": [
    "df = pd.read_csv(\"insurance.csv\")\n",
    "highest_bmi = df[\"bmi\"].max()\n",
    "lowest_bmi = df[\"bmi\"].min()\n",
    "\n",
    "print(\"PATIENTS BMI:\")\n",
    "print(\"Highest BMI of a patient in our insurance data is: {}\".format((highest_bmi)))\n",
    "print(\"Lowest BMI of a patient in our insurance data: {}\".format((lowest_bmi)))\n",
    "\n",
    "def average_bmi(insurance_data):\n",
    "    male_count = 0\n",
    "    total_male_bmi = 0\n",
    "    female_count = 0\n",
    "    total_female_bmi = 0\n",
    "    for person in insurance_data:\n",
    "        if person[\"sex\"] == \"male\":\n",
    "            male_count += 1\n",
    "            total_male_bmi += float(person[\"bmi\"])\n",
    "        elif person[\"sex\"] == \"female\":\n",
    "            female_count += 1\n",
    "            total_female_bmi += float(person[\"bmi\"])\n",
    "    total_average_bmi = round((total_male_bmi + total_female_bmi) / (male_count + female_count), 2)\n",
    "    average_male_bmi = round((total_male_bmi / male_count), 2)\n",
    "    average_female_bmi = round((total_female_bmi / female_count), 2)\n",
    "    \n",
    "    print(\"AVERAGE BMI:\")\n",
    "    print(\"Average BMI of patients in our insurance data is: {}\".format(total_average_bmi))\n",
    "    print(\"Average male BMI of patients is: {}\".format(average_male_bmi))\n",
    "    print(\"Average female BMI of patients is: {}\".format(average_female_bmi))\n",
    "    \n",
    "print(average_bmi(insurance_data))"
   ]
  },
  {
   "cell_type": "markdown",
   "metadata": {},
   "source": [
    "#### Patients wih children"
   ]
  },
  {
   "cell_type": "code",
   "execution_count": 21,
   "metadata": {},
   "outputs": [
    {
     "name": "stdout",
     "output_type": "stream",
     "text": [
      "There are 574 patients with no children in our insurance data.\n",
      "324 of patients have one child.\n",
      "240 of patients have two children.\n",
      "200 of patients have more than two children.\n",
      "None\n"
     ]
    }
   ],
   "source": [
    "def children_count(insurance_data):\n",
    "    no_child = 0\n",
    "    one_child = 0\n",
    "    two_children = 0\n",
    "    more_than_two_children = 0\n",
    "    for person in insurance_data:\n",
    "        if float(person[\"children\"]) == 0:\n",
    "            no_child += 1\n",
    "        elif float(person[\"children\"]) == 1:\n",
    "            one_child += 1\n",
    "        elif float(person[\"children\"]) == 2:\n",
    "            two_children += 1\n",
    "        elif float(person[\"children\"]) > 2:\n",
    "            more_than_two_children += 1\n",
    "        \n",
    "    print(\"There are \" + str(no_child) + \" patients with no children in our insurance data.\")\n",
    "    print(str(one_child) + \" of patients have one child.\")\n",
    "    print(str(two_children) + \" of patients have two children.\")\n",
    "    print(str(more_than_two_children) + \" of patients have more than two children.\")\n",
    "\n",
    "print(children_count(insurance_data))"
   ]
  },
  {
   "cell_type": "code",
   "execution_count": 22,
   "metadata": {},
   "outputs": [
    {
     "name": "stdout",
     "output_type": "stream",
     "text": [
      "There are 391 males patients with children in our insurance data, which is 57.8% of all male patients.\n",
      "There are 373 females patients with children in our insurance data, which is 56.3% of all female patients.\n",
      "764 patients have children in our insurance data, which is 57.1% of all patients.\n",
      "51.2% or 391 of them are males, and 48.8% or 373 of them are females.\n",
      "None\n"
     ]
    }
   ],
   "source": [
    "def children_by_gender(insurance_data):\n",
    "    males_with_children = 0\n",
    "    male_count = 0\n",
    "    females_with_children = 0\n",
    "    female_count = 0\n",
    "    for person in insurance_data:\n",
    "        if person[\"sex\"] == \"male\":\n",
    "            male_count += 1\n",
    "        elif person[\"sex\"] == \"female\":\n",
    "            female_count += 1\n",
    "    \n",
    "    for person in insurance_data:\n",
    "        if person[\"sex\"] == \"male\" and float(person[\"children\"]) > 0:\n",
    "            males_with_children += 1\n",
    "        elif person[\"sex\"] == \"female\" and float(person[\"children\"]) > 0:\n",
    "            females_with_children += 1\n",
    "    \n",
    "    all_patients_with_children = males_with_children + females_with_children\n",
    "    \n",
    "    print(\"There are {}\".format(males_with_children) + \" males patients with children in our insurance data, which is \" + str(round(((males_with_children / male_count) * 100), 1)) + \"% of all male patients.\")\n",
    "    print(\"There are {}\".format(females_with_children) + \" females patients with children in our insurance data, which is \" + str(round(((females_with_children / female_count) * 100), 1)) + \"% of all female patients.\")\n",
    "    print(\n",
    "        str(all_patients_with_children) + \n",
    "        \" patients have children in our insurance data, which is \" +\n",
    "        str(round(((all_patients_with_children / (male_count + female_count)) * 100), 1)) + \"% of all patients.\"\n",
    "    )\n",
    "    print(\n",
    "        str(round((males_with_children / all_patients_with_children) * 100, 1)) + \n",
    "        \"% or \" + str(males_with_children) + \" of them are males, and \" + \n",
    "        str(round((females_with_children / all_patients_with_children) * 100, 1)) + \n",
    "        \"% or \" + str(females_with_children) + \" of them are females.\"\n",
    "    )\n",
    "    \n",
    "print(children_by_gender(insurance_data))"
   ]
  },
  {
   "cell_type": "markdown",
   "metadata": {},
   "source": [
    "#### Patients who are smokers"
   ]
  },
  {
   "cell_type": "code",
   "execution_count": 23,
   "metadata": {},
   "outputs": [
    {
     "name": "stdout",
     "output_type": "stream",
     "text": [
      "274 of patients in our insurance data are smokers, which is 20.5%.\n",
      "159 of patients smokers are males, which is 58.0% of smokers.\n",
      "115 of patients smokers are females, which is 42.0% of smokers.\n",
      "There are 159 of patient smokers with at least one child.\n",
      "Smokers average charge is: $32050.23\n",
      "Non smokers average charge is: $8434\n",
      "We can see that the charges for smokers are on average for: $23615.96 more expensive.\n",
      "None\n",
      "There are 91 smokers in southeast region, 58 smokers in southwest region, 58 smokers in northwest region, and 67 smokers in northeast region.\n",
      "We see that there are more smokers in southeast region, around 33.2% of all smokers in our insurance data.\n",
      "None\n"
     ]
    }
   ],
   "source": [
    "def smokers(insurance_data):\n",
    "    patient_smoker = 0\n",
    "    non_smokers = 0\n",
    "    male_smokers = 0\n",
    "    male_count = 0\n",
    "    female_smokers = 0\n",
    "    female_count = 0\n",
    "    smokers_with_children = 0\n",
    "    smoker_charges = 0\n",
    "    non_smoker_charges = 0\n",
    "    for person in insurance_data:\n",
    "        if person[\"smoker\"] == \"yes\":\n",
    "            patient_smoker += 1\n",
    "            smoker_charges += round(float(person[\"charges\"]), 2)\n",
    "        elif person[\"smoker\"] == \"no\":\n",
    "            non_smokers += 1\n",
    "            non_smoker_charges += round(float(person[\"charges\"]), 2)\n",
    "    \n",
    "    for person in insurance_data:\n",
    "        if person[\"smoker\"] == \"yes\" and person[\"sex\"] == \"male\":\n",
    "            male_smokers += 1\n",
    "        elif person[\"smoker\"] == \"yes\" and person[\"sex\"] == \"female\":\n",
    "            female_smokers += 1\n",
    "    \n",
    "    for person in insurance_data:\n",
    "        if person[\"sex\"] == \"male\":\n",
    "            male_count += 1\n",
    "        elif person[\"sex\"] == \"female\":\n",
    "            female_count += 1\n",
    "    \n",
    "    for person in insurance_data:\n",
    "        if person[\"smoker\"] == \"yes\" and float(person[\"children\"]) > 0:\n",
    "            smokers_with_children += 1\n",
    "        else:\n",
    "            pass\n",
    "        \n",
    "    print(str(patient_smoker) + \" of patients in our insurance data are smokers, which is \" + str(round(((patient_smoker / (male_count + female_count)) * 100), 1)) + \"%.\")\n",
    "    print(str(male_smokers) + \" of patients smokers are males, which is \" + str(round(((male_smokers / patient_smoker) * 100), 1)) + \"% of smokers.\")\n",
    "    print(str(female_smokers) + \" of patients smokers are females, which is \" + str(round(((female_smokers / patient_smoker) * 100), 1)) + \"% of smokers.\")\n",
    "    print(\"There are \" + str(smokers_with_children) + \" of patient smokers with at least one child.\")\n",
    "    print(\"Smokers average charge is: $\" + str(round((smoker_charges / patient_smoker), 2)))\n",
    "    print(\"Non smokers average charge is: $\" + str(round((non_smoker_charges / non_smokers))))\n",
    "    print(\"We can see that the charges for smokers are on average for: ${}\".format(((round((smoker_charges / patient_smoker), 2)) - round((non_smoker_charges / non_smokers), 2))) + \n",
    "          \" more expensive.\")\n",
    "\n",
    "def region_smoker(insurance_data):\n",
    "    southeast_smoker = 0\n",
    "    southwest_smoker = 0\n",
    "    northeast_smoker = 0\n",
    "    northwest_smoker = 0\n",
    "    for person in insurance_data:\n",
    "        if person[\"smoker\"] == \"yes\" and person[\"region\"] == \"southeast\":\n",
    "            southeast_smoker += 1\n",
    "        elif person[\"smoker\"] == \"yes\" and person[\"region\"] == \"southwest\":\n",
    "            southwest_smoker += 1\n",
    "        elif person[\"smoker\"] == \"yes\" and person[\"region\"] == \"northwest\":\n",
    "            northwest_smoker += 1\n",
    "        elif person[\"smoker\"] == \"yes\" and person[\"region\"] == \"northeast\":\n",
    "            northeast_smoker += 1\n",
    "\n",
    "    all_smokers = southeast_smoker + southwest_smoker + northwest_smoker + northeast_smoker\n",
    "    \n",
    "    print(\"There are \" + str(southeast_smoker) + \" smokers in southeast region, \" +\n",
    "          str(southwest_smoker) + \" smokers in southwest region, \" +\n",
    "          str(northwest_smoker) + \" smokers in northwest region, and \" + str(northeast_smoker) + \" smokers in northeast region.\")\n",
    "    print(\"We see that there are more smokers in southeast region, around \" + str(round(((southeast_smoker / all_smokers) * 100), 1)) + \"% of all smokers in our insurance data.\")\n",
    "\n",
    "print(smokers(insurance_data))\n",
    "print(region_smoker(insurance_data))"
   ]
  },
  {
   "cell_type": "markdown",
   "metadata": {},
   "source": [
    "#### Patients regions"
   ]
  },
  {
   "cell_type": "code",
   "execution_count": 24,
   "metadata": {},
   "outputs": [
    {
     "name": "stdout",
     "output_type": "stream",
     "text": [
      "There are 163 males from southwest region, 189 males from southeast region, 161 males from northwest region, and 163 males from northeast region.\n",
      "There are 162 females from southwest region, 175 females from southeast region, 164 females from northwest region, and 161 females from northeast region.\n",
      "Patients from southwest region: 325 or 24.3%\n",
      "Patients from southeast region: 364 or 27.2%\n",
      "Patients from northwest region: 325 or 24.3%\n",
      "Patients from northeast region: 324 or 24.2%\n",
      "We see that the patients are almost equally distributed throughout regions.\n",
      "Average charge in southwest region per patient is: $12346.94\n",
      "Average charge in southeast region per patient is: $14735.41\n",
      "Average charge in northwest region per patient is: $12417.58\n",
      "Average charge in northeast region per patient is: $13406.38\n",
      "None\n"
     ]
    }
   ],
   "source": [
    "def regions(insurance_data):\n",
    "    male_count = 0\n",
    "    female_count = 0\n",
    "    southwest_male_count = 0\n",
    "    southeast_male_count = 0\n",
    "    northwest_male_count = 0\n",
    "    northeast_male_count = 0\n",
    "    southwest_female_count = 0\n",
    "    southeast_female_count = 0\n",
    "    northwest_female_count = 0\n",
    "    northeast_female_count = 0\n",
    "    southwest_charges = 0\n",
    "    southeast_charges = 0\n",
    "    northwest_charges = 0\n",
    "    northeast_charges = 0\n",
    "    \n",
    "    for person in insurance_data:\n",
    "        if person[\"sex\"] == \"male\":\n",
    "            male_count += 1\n",
    "        elif person[\"sex\"] == \"female\":\n",
    "            female_count += 1\n",
    "    \n",
    "    for person in insurance_data:\n",
    "        if person[\"sex\"] == \"male\" and person[\"region\"] == \"southwest\":\n",
    "            southwest_male_count += 1\n",
    "        elif person[\"sex\"] == \"female\" and person[\"region\"] == \"southwest\":\n",
    "            southwest_female_count += 1\n",
    "        elif person[\"sex\"] == \"male\" and person[\"region\"] == \"southeast\":\n",
    "            southeast_male_count += 1\n",
    "        elif person[\"sex\"] == \"female\" and person[\"region\"] == \"southeast\":\n",
    "            southeast_female_count += 1\n",
    "        elif person[\"sex\"] == \"male\" and person[\"region\"] == \"northwest\":\n",
    "            northwest_male_count += 1\n",
    "        elif person[\"sex\"] == \"female\" and person[\"region\"] == \"northwest\":\n",
    "            northwest_female_count += 1\n",
    "        elif person[\"sex\"] == \"male\" and person[\"region\"] == \"northeast\":\n",
    "            northeast_male_count += 1\n",
    "        elif person[\"sex\"] == \"female\" and person[\"region\"] == \"northeast\":\n",
    "            northeast_female_count += 1\n",
    "    \n",
    "    for person in insurance_data:\n",
    "        if person[\"region\"] == \"southwest\":\n",
    "            southwest_charges += round(float(person[\"charges\"]), 2)\n",
    "        elif person[\"region\"] == \"southeast\":\n",
    "            southeast_charges += round(float(person[\"charges\"]), 2)\n",
    "        elif person[\"region\"] == \"northwest\":\n",
    "            northwest_charges += round(float(person[\"charges\"]), 2)\n",
    "        elif person[\"region\"] == \"northeast\":\n",
    "            northeast_charges += round(float(person[\"charges\"]), 2)\n",
    "    \n",
    "    print(\"There are \" + str(southwest_male_count) + \" males from southwest region, \" +\n",
    "          str(southeast_male_count) + \" males from southeast region, \" +\n",
    "          str(northwest_male_count) + \" males from northwest region, and \" +\n",
    "          str(northeast_male_count) + \" males from northeast region.\"\n",
    "    )\n",
    "    print(\"There are \" + str(southwest_female_count) + \" females from southwest region, \" +\n",
    "          str(southeast_female_count) + \" females from southeast region, \" +\n",
    "          str(northwest_female_count) + \" females from northwest region, and \" +\n",
    "          str(northeast_female_count) + \" females from northeast region.\"\n",
    "    )\n",
    "    \n",
    "    print(\"Patients from southwest region: \" + \n",
    "          str(southwest_male_count + southwest_female_count) + \" or \" + \n",
    "          str(round(((southwest_male_count + southwest_female_count) / (male_count + female_count) * 100), 1)) + \"%\")\n",
    "    print(\"Patients from southeast region: \" + \n",
    "          str(southeast_male_count + southeast_female_count) + \" or \" + \n",
    "          str(round(((southeast_male_count + southeast_female_count) / (male_count + female_count) * 100), 1)) + \"%\")\n",
    "    print(\"Patients from northwest region: \" + \n",
    "          str(northwest_male_count + northwest_female_count) + \" or \" + \n",
    "          str(round(((northwest_male_count + northwest_female_count) / (male_count + female_count) * 100), 1)) + \"%\")\n",
    "    print(\"Patients from northeast region: \" + \n",
    "          str(northeast_male_count + northeast_female_count) + \" or \" + \n",
    "          str(round(((northeast_male_count + northeast_female_count) / (male_count + female_count) * 100), 1)) + \"%\")\n",
    "    \n",
    "    print(\"We see that the patients are almost equally distributed throughout regions.\")\n",
    "    print(\"Average charge in southwest region per patient is: $\" + str(round((southwest_charges / (southwest_male_count + southwest_female_count)), 2)))\n",
    "    print(\"Average charge in southeast region per patient is: $\" + str(round((southeast_charges / (southeast_male_count + southeast_female_count)), 2)))\n",
    "    print(\"Average charge in northwest region per patient is: $\" + str(round((northwest_charges / (northwest_male_count + northwest_female_count)), 2)))\n",
    "    print(\"Average charge in northeast region per patient is: $\" + str(round((northeast_charges / (northeast_male_count + northeast_female_count)), 2)))\n",
    "    \n",
    "print(regions(insurance_data))\n",
    "\n"
   ]
  }
 ],
 "metadata": {
  "kernelspec": {
   "display_name": "Python 3",
   "language": "python",
   "name": "python3"
  },
  "language_info": {
   "codemirror_mode": {
    "name": "ipython",
    "version": 3
   },
   "file_extension": ".py",
   "mimetype": "text/x-python",
   "name": "python",
   "nbconvert_exporter": "python",
   "pygments_lexer": "ipython3",
   "version": "3.11.4"
  }
 },
 "nbformat": 4,
 "nbformat_minor": 4
}
